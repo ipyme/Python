{
 "cells": [
  {
   "cell_type": "markdown",
   "metadata": {},
   "source": [
    "# Topics covered in this notebook\n",
    "\n",
    "**Data types**  \n",
    "**Data type conversion**  \n",
    "**String manipulation**  \n",
    "**List and List manipulation**  \n",
    "**Tuple**  \n",
    "**Dictionary**  \n",
    "\n"
   ]
  },
  {
   "cell_type": "markdown",
   "metadata": {},
   "source": [
    "# Python datatypes\n",
    "\n",
    "integer -- whole number\n",
    "\n",
    "float -- numbers with decimal points\n",
    "\n",
    "complex numbers -- is in form of a+bi like real and imaginary numbers\n",
    "\n",
    "# Type conversion\n",
    "\n",
    "int(x) -- converts x to interger\n",
    "\n",
    "long(x) -- converts x to long interger\n",
    "\n",
    "float(x) -- converts x to floating point number\n",
    "\n",
    "complex(x) -- converts x to complex number with real part X and imaginary part zero\n",
    "\n",
    "complex(x,y) -- converts x to complex number with real part X and imginary pary Y. X and Y are numeric expressions."
   ]
  },
  {
   "cell_type": "markdown",
   "metadata": {},
   "source": [
    "### float conversion"
   ]
  },
  {
   "cell_type": "code",
   "execution_count": 9,
   "metadata": {},
   "outputs": [],
   "source": [
    "x = 20"
   ]
  },
  {
   "cell_type": "code",
   "execution_count": 10,
   "metadata": {},
   "outputs": [
    {
     "name": "stdout",
     "output_type": "stream",
     "text": [
      "20\n"
     ]
    }
   ],
   "source": [
    "print(x) # print() -- used to display."
   ]
  },
  {
   "cell_type": "code",
   "execution_count": 11,
   "metadata": {},
   "outputs": [],
   "source": [
    "x = float(x)"
   ]
  },
  {
   "cell_type": "code",
   "execution_count": 12,
   "metadata": {},
   "outputs": [
    {
     "data": {
      "text/plain": [
       "float"
      ]
     },
     "execution_count": 12,
     "metadata": {},
     "output_type": "execute_result"
    }
   ],
   "source": [
    "type(x) # type() -- used to find the type of object"
   ]
  },
  {
   "cell_type": "markdown",
   "metadata": {},
   "source": [
    "### int to string conversion"
   ]
  },
  {
   "cell_type": "code",
   "execution_count": 13,
   "metadata": {},
   "outputs": [
    {
     "name": "stdout",
     "output_type": "stream",
     "text": [
      "20\n"
     ]
    }
   ],
   "source": [
    "s = 20\n",
    "print(s)"
   ]
  },
  {
   "cell_type": "code",
   "execution_count": null,
   "metadata": {},
   "outputs": [],
   "source": []
  },
  {
   "cell_type": "code",
   "execution_count": 15,
   "metadata": {},
   "outputs": [
    {
     "data": {
      "text/plain": [
       "str"
      ]
     },
     "execution_count": 15,
     "metadata": {},
     "output_type": "execute_result"
    }
   ],
   "source": [
    "s = str(s)\n",
    "type(s)"
   ]
  },
  {
   "cell_type": "markdown",
   "metadata": {},
   "source": [
    "## String\n",
    "**+** is to do concatenation\n",
    "\n",
    "' * ' for repetation\n",
    "\n",
    "' ' or \" \" or \"\"\" \"\"\" are used for string\n"
   ]
  },
  {
   "cell_type": "code",
   "execution_count": 16,
   "metadata": {},
   "outputs": [],
   "source": [
    "x = 'hello'"
   ]
  },
  {
   "cell_type": "code",
   "execution_count": 17,
   "metadata": {},
   "outputs": [
    {
     "name": "stdout",
     "output_type": "stream",
     "text": [
      "hello\n"
     ]
    }
   ],
   "source": [
    "print(x)"
   ]
  },
  {
   "cell_type": "code",
   "execution_count": 18,
   "metadata": {},
   "outputs": [],
   "source": [
    "x= x+'there'"
   ]
  },
  {
   "cell_type": "code",
   "execution_count": 19,
   "metadata": {},
   "outputs": [
    {
     "name": "stdout",
     "output_type": "stream",
     "text": [
      "hellothere\n"
     ]
    }
   ],
   "source": [
    "print(x)"
   ]
  },
  {
   "cell_type": "code",
   "execution_count": 27,
   "metadata": {},
   "outputs": [],
   "source": [
    "string1 = \"nikhil\""
   ]
  },
  {
   "cell_type": "code",
   "execution_count": 28,
   "metadata": {},
   "outputs": [],
   "source": [
    "string2 = \"analytics\""
   ]
  },
  {
   "cell_type": "code",
   "execution_count": 29,
   "metadata": {},
   "outputs": [
    {
     "name": "stdout",
     "output_type": "stream",
     "text": [
      "nikhil\n"
     ]
    }
   ],
   "source": [
    "print(string1)"
   ]
  },
  {
   "cell_type": "code",
   "execution_count": 30,
   "metadata": {},
   "outputs": [
    {
     "name": "stdout",
     "output_type": "stream",
     "text": [
      "6\n"
     ]
    }
   ],
   "source": [
    "print(len(string1))"
   ]
  },
  {
   "cell_type": "code",
   "execution_count": 31,
   "metadata": {},
   "outputs": [
    {
     "name": "stdout",
     "output_type": "stream",
     "text": [
      "nik\n"
     ]
    }
   ],
   "source": [
    "print(string1[0:3])"
   ]
  },
  {
   "cell_type": "code",
   "execution_count": 34,
   "metadata": {},
   "outputs": [],
   "source": [
    "string1 = string1.upper()"
   ]
  },
  {
   "cell_type": "code",
   "execution_count": 35,
   "metadata": {},
   "outputs": [
    {
     "name": "stdout",
     "output_type": "stream",
     "text": [
      "NIKHIL\n"
     ]
    }
   ],
   "source": [
    "print(string1)"
   ]
  },
  {
   "cell_type": "markdown",
   "metadata": {},
   "source": [
    "#### convert 1st charc to upper case and rest to lower case."
   ]
  },
  {
   "cell_type": "code",
   "execution_count": 36,
   "metadata": {},
   "outputs": [],
   "source": [
    "string1 = string1[0].upper() + string1[1:].lower()"
   ]
  },
  {
   "cell_type": "code",
   "execution_count": 37,
   "metadata": {},
   "outputs": [
    {
     "name": "stdout",
     "output_type": "stream",
     "text": [
      "Nikhil\n"
     ]
    }
   ],
   "source": [
    "print(string1)"
   ]
  },
  {
   "cell_type": "code",
   "execution_count": 39,
   "metadata": {},
   "outputs": [],
   "source": [
    "string2 = string2[0].upper() + string2[1:].lower()"
   ]
  },
  {
   "cell_type": "code",
   "execution_count": 40,
   "metadata": {},
   "outputs": [
    {
     "name": "stdout",
     "output_type": "stream",
     "text": [
      "Analytics\n"
     ]
    }
   ],
   "source": [
    "print(string2)"
   ]
  },
  {
   "cell_type": "code",
   "execution_count": 41,
   "metadata": {},
   "outputs": [],
   "source": [
    "new_string = string1 + \" \" +string2"
   ]
  },
  {
   "cell_type": "code",
   "execution_count": 42,
   "metadata": {},
   "outputs": [
    {
     "name": "stdout",
     "output_type": "stream",
     "text": [
      "Nikhil Analytics\n"
     ]
    }
   ],
   "source": [
    "print(new_string)"
   ]
  },
  {
   "cell_type": "code",
   "execution_count": 44,
   "metadata": {},
   "outputs": [],
   "source": [
    "x = \"Python\"\n",
    "y = \"is\"\n",
    "z = \"best\""
   ]
  },
  {
   "cell_type": "code",
   "execution_count": 48,
   "metadata": {},
   "outputs": [
    {
     "name": "stdout",
     "output_type": "stream",
     "text": [
      "Pythonisbest\n"
     ]
    }
   ],
   "source": [
    "## string concatenation\n",
    "print(x+y+z)"
   ]
  },
  {
   "cell_type": "code",
   "execution_count": 49,
   "metadata": {},
   "outputs": [
    {
     "name": "stdout",
     "output_type": "stream",
     "text": [
      "Python is best\n"
     ]
    }
   ],
   "source": [
    "# string concatenation with space separation\n",
    "print(x+\" \"+y+\" \"+z)"
   ]
  },
  {
   "cell_type": "code",
   "execution_count": 50,
   "metadata": {},
   "outputs": [
    {
     "name": "stdout",
     "output_type": "stream",
     "text": [
      "PythonPythonPythonPythonPython\n"
     ]
    }
   ],
   "source": [
    "# string repeatation\n",
    "print(x*5)"
   ]
  },
  {
   "cell_type": "code",
   "execution_count": 54,
   "metadata": {},
   "outputs": [
    {
     "name": "stdout",
     "output_type": "stream",
     "text": [
      "on\n"
     ]
    }
   ],
   "source": [
    "# string slicing\n",
    "print(x[-2:])"
   ]
  },
  {
   "cell_type": "code",
   "execution_count": 55,
   "metadata": {},
   "outputs": [
    {
     "name": "stdout",
     "output_type": "stream",
     "text": [
      "6\n"
     ]
    }
   ],
   "source": [
    "print(len(x))"
   ]
  },
  {
   "cell_type": "code",
   "execution_count": 56,
   "metadata": {},
   "outputs": [
    {
     "data": {
      "text/plain": [
       "False"
      ]
     },
     "execution_count": 56,
     "metadata": {},
     "output_type": "execute_result"
    }
   ],
   "source": [
    "##2 compare \"moon\" and \"moot\"\n",
    "\"moon\" == \"moot\""
   ]
  },
  {
   "cell_type": "code",
   "execution_count": 59,
   "metadata": {},
   "outputs": [
    {
     "data": {
      "text/plain": [
       "True"
      ]
     },
     "execution_count": 59,
     "metadata": {},
     "output_type": "execute_result"
    }
   ],
   "source": [
    "##3 search \"o\" in the word \"Python\"\n",
    "\"o\"in x # use in operator to search a string in object"
   ]
  },
  {
   "cell_type": "markdown",
   "metadata": {},
   "source": [
    "# List"
   ]
  },
  {
   "cell_type": "markdown",
   "metadata": {},
   "source": [
    "List is a ordered collection of data.  \n",
    "List can have same or different datatypes (ex: [1,'a'] )  \n",
    "[ ] - is used to create a list.  \n",
    "\n",
    "#### example of list:\n",
    "List1 = [10,20,\"Thirty\"]\n"
   ]
  },
  {
   "cell_type": "code",
   "execution_count": 62,
   "metadata": {},
   "outputs": [
    {
     "name": "stdout",
     "output_type": "stream",
     "text": [
      "[25, 67, 34, 679, 57, 98, 14]\n"
     ]
    }
   ],
   "source": [
    "## 4 Create a list my_list with the following values 25, 67, 34, 679, 57, 98, 14. And perform the following operations:\n",
    "\n",
    "my_list = [25,67,34,679,57,98,14]\n",
    "\n",
    "print(my_list)"
   ]
  },
  {
   "cell_type": "code",
   "execution_count": 63,
   "metadata": {},
   "outputs": [
    {
     "name": "stdout",
     "output_type": "stream",
     "text": [
      "[14, 98, 57, 679, 34, 67, 25]\n"
     ]
    }
   ],
   "source": [
    "## Reverse my_list\n",
    "my_list.reverse()\n",
    "print(my_list)"
   ]
  },
  {
   "cell_type": "code",
   "execution_count": 68,
   "metadata": {},
   "outputs": [
    {
     "data": {
      "text/plain": [
       "[10, 's']"
      ]
     },
     "execution_count": 68,
     "metadata": {},
     "output_type": "execute_result"
    }
   ],
   "source": [
    "list1 = [10,20,30]\n",
    "list2 = ['a',10,'s',20,'c',30]\n",
    "#display 2nd and 3rd values\n",
    "list2[1:3]"
   ]
  },
  {
   "cell_type": "code",
   "execution_count": 70,
   "metadata": {},
   "outputs": [
    {
     "name": "stdout",
     "output_type": "stream",
     "text": [
      "a 30\n"
     ]
    }
   ],
   "source": [
    "# extract 1st and last value\n",
    "print(list2[0], list2[-1]) # cannot extract 2 different position elements of a list , so using print"
   ]
  },
  {
   "cell_type": "code",
   "execution_count": 73,
   "metadata": {},
   "outputs": [
    {
     "data": {
      "text/plain": [
       "6"
      ]
     },
     "execution_count": 73,
     "metadata": {},
     "output_type": "execute_result"
    }
   ],
   "source": [
    "# find 5th,6th and 7th value\n",
    "list2[4:]\n",
    "len(list2) # there is no 7th element in list2"
   ]
  },
  {
   "cell_type": "markdown",
   "metadata": {},
   "source": [
    "## List manipulation"
   ]
  },
  {
   "cell_type": "code",
   "execution_count": 74,
   "metadata": {},
   "outputs": [
    {
     "name": "stdout",
     "output_type": "stream",
     "text": [
      "[789, 789, 14, 25, 34, 57, 67, 98, 679]\n"
     ]
    }
   ],
   "source": [
    "##insert 789 in 1st position\n",
    "my_list.insert(0,789) # insert element anywhere using list index (ex:  list.insert(index,element) )\n",
    "print(my_list)"
   ]
  },
  {
   "cell_type": "code",
   "execution_count": 75,
   "metadata": {},
   "outputs": [
    {
     "name": "stdout",
     "output_type": "stream",
     "text": [
      "[14, 25, 34, 57, 67, 98, 679, 789, 789]\n"
     ]
    }
   ],
   "source": [
    "## sort my_list\n",
    "my_list.sort() #use  var.sort(reverse = True) to sort in descending\n",
    "print(my_list) # list sorted"
   ]
  },
  {
   "cell_type": "code",
   "execution_count": 76,
   "metadata": {},
   "outputs": [],
   "source": [
    "# Add new item to list at last \n",
    "list1.append(40) # append() -- inserts new element at the last"
   ]
  },
  {
   "cell_type": "code",
   "execution_count": 79,
   "metadata": {},
   "outputs": [
    {
     "name": "stdout",
     "output_type": "stream",
     "text": [
      "[10, 15, 15, 15, 20, 30, 40]\n"
     ]
    }
   ],
   "source": [
    "# Add new item anywher using index\n",
    "list1.insert(1,15)  # insert element anywhere using list index (ex:  list.insert(index,element) )\n",
    "print(list1)"
   ]
  },
  {
   "cell_type": "code",
   "execution_count": 82,
   "metadata": {},
   "outputs": [
    {
     "name": "stdout",
     "output_type": "stream",
     "text": [
      "[10, 20, 30, 40]\n"
     ]
    }
   ],
   "source": [
    "#remove value in list.\n",
    "list1.remove(15) # list.remove(value)\n",
    "print(list1)"
   ]
  },
  {
   "cell_type": "code",
   "execution_count": 83,
   "metadata": {},
   "outputs": [
    {
     "data": {
      "text/plain": [
       "1"
      ]
     },
     "execution_count": 83,
     "metadata": {},
     "output_type": "execute_result"
    }
   ],
   "source": [
    "# listname.index -- to find position of a value.\n",
    "list1.index(20)"
   ]
  },
  {
   "cell_type": "code",
   "execution_count": 88,
   "metadata": {},
   "outputs": [
    {
     "name": "stdout",
     "output_type": "stream",
     "text": [
      "['a', 10, 's', 20, 'c', 30, 'd', 40, 'd', 40, 'd', 40, 'd', 40, 'd', 40]\n"
     ]
    }
   ],
   "source": [
    "#add new value(d  ,40 to list2)\n",
    "list2 = list2+['d',40] # using  ' + ' to concatenate new values\n",
    "print(list2)"
   ]
  },
  {
   "cell_type": "code",
   "execution_count": 92,
   "metadata": {},
   "outputs": [
    {
     "data": {
      "text/plain": [
       "3"
      ]
     },
     "execution_count": 92,
     "metadata": {},
     "output_type": "execute_result"
    }
   ],
   "source": [
    "#replace 20 by 25\n",
    "#step1 -- find the index\n",
    "list2.index(20)"
   ]
  },
  {
   "cell_type": "code",
   "execution_count": 93,
   "metadata": {},
   "outputs": [],
   "source": [
    "#step2 assinging new value by using element index\n",
    "list2[3]=25 "
   ]
  },
  {
   "cell_type": "code",
   "execution_count": 94,
   "metadata": {},
   "outputs": [
    {
     "name": "stdout",
     "output_type": "stream",
     "text": [
      "['a', 10, 's', 25, 'c', 30, 'd', 40, 'd', 40, 'd', 40, 'd', 40, 'd', 40]\n"
     ]
    }
   ],
   "source": [
    "print(list2)"
   ]
  },
  {
   "cell_type": "code",
   "execution_count": 98,
   "metadata": {},
   "outputs": [
    {
     "data": {
      "text/plain": [
       "{10, 25, 30, 40, 'a', 'c', 'd', 's'}"
      ]
     },
     "execution_count": 98,
     "metadata": {},
     "output_type": "execute_result"
    }
   ],
   "source": [
    "set(list2) # set() removes duplicates"
   ]
  },
  {
   "cell_type": "code",
   "execution_count": 103,
   "metadata": {},
   "outputs": [
    {
     "name": "stdout",
     "output_type": "stream",
     "text": [
      "[['a', 10], ['b', 20], ['c', 30]]\n"
     ]
    }
   ],
   "source": [
    "list3 = [['a',10],['b',20],['c',30]] # nested list\n",
    "print(list3)"
   ]
  },
  {
   "cell_type": "code",
   "execution_count": 100,
   "metadata": {},
   "outputs": [
    {
     "name": "stdout",
     "output_type": "stream",
     "text": [
      "3\n"
     ]
    }
   ],
   "source": [
    "print(len(list3))"
   ]
  },
  {
   "cell_type": "code",
   "execution_count": 102,
   "metadata": {},
   "outputs": [
    {
     "name": "stdout",
     "output_type": "stream",
     "text": [
      "20\n"
     ]
    }
   ],
   "source": [
    "#accessing nested list elements\n",
    "print(list3[1][1]) # list3[1] extracts 1 element and list3[1][1] extracts 1st element of 2nd list."
   ]
  },
  {
   "cell_type": "markdown",
   "metadata": {},
   "source": [
    "#### Exercises"
   ]
  },
  {
   "cell_type": "code",
   "execution_count": 104,
   "metadata": {},
   "outputs": [
    {
     "name": "stdout",
     "output_type": "stream",
     "text": [
      "['Rakesh', 18.9, 23, 'Mahesh', 356, 26.8]\n"
     ]
    }
   ],
   "source": [
    "#1) Create a list with the name Newlist that will contain the following values\n",
    "#Rakesh, 18.9, 23, Mahesh, 356, 26.8\n",
    "\n",
    "newlist = ['Rakesh',18.9,23,'Mahesh',356,26.8]\n",
    "print(newlist)"
   ]
  },
  {
   "cell_type": "code",
   "execution_count": 105,
   "metadata": {},
   "outputs": [
    {
     "name": "stdout",
     "output_type": "stream",
     "text": [
      "['Mike', [1984, 2017], 'Jay', [1979, 2017]]\n"
     ]
    }
   ],
   "source": [
    "#2) Create a nested list with the name PersonDetails and values –\n",
    "#Mike, (1984, 2017), Jay, (1979, 2017)\n",
    "\n",
    "PersonDetails = ['Mike',[1984,2017],'Jay',[1979,2017]]\n",
    "print(PersonDetails)"
   ]
  },
  {
   "cell_type": "code",
   "execution_count": 111,
   "metadata": {},
   "outputs": [],
   "source": [
    "#3. Access the following values of the corresponding lists –\n"
   ]
  },
  {
   "cell_type": "code",
   "execution_count": 112,
   "metadata": {},
   "outputs": [
    {
     "data": {
      "text/plain": [
       "23"
      ]
     },
     "execution_count": 112,
     "metadata": {},
     "output_type": "execute_result"
    }
   ],
   "source": [
    "#i. 3rd value of Newlist.\n",
    "newlist[2]"
   ]
  },
  {
   "cell_type": "code",
   "execution_count": 113,
   "metadata": {},
   "outputs": [
    {
     "data": {
      "text/plain": [
       "2017"
      ]
     },
     "execution_count": 113,
     "metadata": {},
     "output_type": "execute_result"
    }
   ],
   "source": [
    "#2 4th value’s 2nd element of PersonDetails list.\n",
    "PersonDetails[3][1]\n"
   ]
  },
  {
   "cell_type": "code",
   "execution_count": 114,
   "metadata": {},
   "outputs": [
    {
     "data": {
      "text/plain": [
       "356"
      ]
     },
     "execution_count": 114,
     "metadata": {},
     "output_type": "execute_result"
    }
   ],
   "source": [
    "#3 2nd value from the last of Newlist\n",
    "newlist[-2]"
   ]
  },
  {
   "cell_type": "code",
   "execution_count": 115,
   "metadata": {},
   "outputs": [],
   "source": [
    "#4. Create a list my_list containing all the alphabets of ILOVEPYTHON as individual element. And perform the following task:"
   ]
  },
  {
   "cell_type": "code",
   "execution_count": 117,
   "metadata": {},
   "outputs": [
    {
     "name": "stdout",
     "output_type": "stream",
     "text": [
      "['I', 'L', 'O', 'V', 'E', 'P', 'Y', 'T', 'H', 'O', 'N']\n"
     ]
    }
   ],
   "source": [
    "my_list = ['I','L','O','V','E','P','Y','T','H','O','N']\n",
    "print(my_list)"
   ]
  },
  {
   "cell_type": "code",
   "execution_count": 118,
   "metadata": {},
   "outputs": [
    {
     "data": {
      "text/plain": [
       "['O', 'V', 'E']"
      ]
     },
     "execution_count": 118,
     "metadata": {},
     "output_type": "execute_result"
    }
   ],
   "source": [
    "#1 access the elements 3rd to 5th\n",
    "my_list[2:5]"
   ]
  },
  {
   "cell_type": "code",
   "execution_count": 119,
   "metadata": {},
   "outputs": [
    {
     "data": {
      "text/plain": [
       "['I', 'L', 'O', 'V']"
      ]
     },
     "execution_count": 119,
     "metadata": {},
     "output_type": "execute_result"
    }
   ],
   "source": [
    "#2 access the elements beginning to 4th\n",
    "my_list[:4]"
   ]
  },
  {
   "cell_type": "code",
   "execution_count": 120,
   "metadata": {},
   "outputs": [
    {
     "data": {
      "text/plain": [
       "['P', 'Y', 'T', 'H', 'O', 'N']"
      ]
     },
     "execution_count": 120,
     "metadata": {},
     "output_type": "execute_result"
    }
   ],
   "source": [
    "#3  access the elements 6th to end\n",
    "my_list[5:]"
   ]
  },
  {
   "cell_type": "code",
   "execution_count": 121,
   "metadata": {},
   "outputs": [
    {
     "data": {
      "text/plain": [
       "['I', 'L', 'O', 'V', 'E', 'P', 'Y', 'T', 'H', 'O', 'N']"
      ]
     },
     "execution_count": 121,
     "metadata": {},
     "output_type": "execute_result"
    }
   ],
   "source": [
    "#4 access the elements beginning to end\n",
    "my_list[:]"
   ]
  },
  {
   "cell_type": "code",
   "execution_count": 124,
   "metadata": {},
   "outputs": [
    {
     "name": "stdout",
     "output_type": "stream",
     "text": [
      "['I', 'L', 'O', 'V', 'E', 'P', 'Y', 'T', 'H', 'O', 'N', 'I', 'L', 'O', 'V', 'E', 'P', 'Y', 'T', 'H', 'O', 'N', 'I', 'L', 'O', 'V', 'E', 'P', 'Y', 'T', 'H', 'O', 'N', 'I', 'L', 'O', 'V', 'E', 'P', 'Y', 'T', 'H', 'O', 'N']\n"
     ]
    },
    {
     "data": {
      "text/plain": [
       "44"
      ]
     },
     "execution_count": 124,
     "metadata": {},
     "output_type": "execute_result"
    }
   ],
   "source": [
    "#5 Repeat the list 4 times and save it with a name my_newlist and find the length of my_newlist\n",
    "my_newlist = my_list * 4\n",
    "print(my_newlist)\n",
    "len(my_newlist)"
   ]
  },
  {
   "cell_type": "code",
   "execution_count": 126,
   "metadata": {},
   "outputs": [
    {
     "data": {
      "text/plain": [
       "5"
      ]
     },
     "execution_count": 126,
     "metadata": {},
     "output_type": "execute_result"
    }
   ],
   "source": [
    "#6  Find the position of “P” in my_list.\n",
    "my_list.index(\"P\")"
   ]
  },
  {
   "cell_type": "code",
   "execution_count": 127,
   "metadata": {},
   "outputs": [],
   "source": [
    "# Create a list evenno containing the values (2,4,7,8,10)\n",
    "# and oddno containing the value (1,2,4,6,9) and perform the following task:\n",
    "\n",
    "evenno = [2,4,7,8,10]\n",
    "addno = [1,2,4,6,9]"
   ]
  },
  {
   "cell_type": "code",
   "execution_count": 128,
   "metadata": {},
   "outputs": [],
   "source": [
    "#1 change the 3rd item of evenno to 6\n",
    "evenno[2] = 6\n",
    "print(evenno)"
   ]
  },
  {
   "cell_type": "code",
   "execution_count": 129,
   "metadata": {},
   "outputs": [],
   "source": [
    "#2 change 2nd to 4th elements of oddno to (3,5,7)\n",
    "addno[1:4] = [3,5,7]\n",
    "print(addno)"
   ]
  },
  {
   "cell_type": "code",
   "execution_count": 132,
   "metadata": {},
   "outputs": [
    {
     "data": {
      "text/plain": [
       "[2, 4, 6, 8, 10, 1, 3, 5, 7, 9]"
      ]
     },
     "execution_count": 132,
     "metadata": {},
     "output_type": "execute_result"
    }
   ],
   "source": [
    "#3 add both the list\n",
    "evenno + addno"
   ]
  },
  {
   "cell_type": "code",
   "execution_count": 134,
   "metadata": {},
   "outputs": [],
   "source": [
    "#4 Remove 2nd to 4th element in the list evenno\n",
    "del evenno[1:4]"
   ]
  },
  {
   "cell_type": "code",
   "execution_count": 135,
   "metadata": {},
   "outputs": [
    {
     "name": "stdout",
     "output_type": "stream",
     "text": [
      "[2, 10]\n"
     ]
    }
   ],
   "source": [
    "print(evenno)"
   ]
  },
  {
   "cell_type": "code",
   "execution_count": 136,
   "metadata": {},
   "outputs": [],
   "source": [
    "#5 Insert the value (12,14,16) into evenno list\n",
    "evenno = evenno+[12,14,16]"
   ]
  },
  {
   "cell_type": "code",
   "execution_count": 137,
   "metadata": {},
   "outputs": [
    {
     "name": "stdout",
     "output_type": "stream",
     "text": [
      "[2, 10, 12, 14, 16]\n"
     ]
    }
   ],
   "source": [
    "print(evenno)"
   ]
  },
  {
   "cell_type": "markdown",
   "metadata": {},
   "source": [
    "# Tuple  \n",
    "Like a list, tuples are iteratable array of objects.\n",
    "\n",
    "Tuple can be same or different datatype.\n",
    "\n",
    "Tuples are immutable(unchangable).  \n",
    "\n",
    "To add or remove items in tuple, it must be redeclared. \n",
    "\n",
    "use ( ) to create tuple.\n",
    "\n",
    "Accessing tuple is same as List."
   ]
  },
  {
   "cell_type": "code",
   "execution_count": 138,
   "metadata": {},
   "outputs": [],
   "source": [
    "# Create a tuple my_tuple with the following data: Delhi, Bangalore, Chennai, Pune. And perform the following operations:\n",
    "my_tuple = (\"Delhi\",\"Bangalore\",\"Chennai\",\"Pune\")"
   ]
  },
  {
   "cell_type": "code",
   "execution_count": 139,
   "metadata": {},
   "outputs": [
    {
     "name": "stdout",
     "output_type": "stream",
     "text": [
      "C\n"
     ]
    }
   ],
   "source": [
    "# Get output as \"C\"\n",
    "print(my_tuple[2][0])"
   ]
  },
  {
   "cell_type": "code",
   "execution_count": 140,
   "metadata": {},
   "outputs": [
    {
     "name": "stdout",
     "output_type": "stream",
     "text": [
      "P\n"
     ]
    }
   ],
   "source": [
    "# Get output as \"P\"\n",
    "print(my_tuple[3][0])"
   ]
  },
  {
   "cell_type": "markdown",
   "metadata": {},
   "source": [
    "# Dictionary"
   ]
  },
  {
   "cell_type": "markdown",
   "metadata": {},
   "source": [
    "Dictionaries are set of key and value pairs.  \n",
    "\n",
    "Allows you to identify values by a descriptive name instead of order in a list.  \n",
    "\n",
    "Keys are unordered unless explicitly sorted.  \n",
    "\n",
    "Keys are unique.  \n",
    "\n",
    "use {key:\"value\"} to create dictionary\n",
    "\n",
    "Access dictionary item using key"
   ]
  },
  {
   "cell_type": "code",
   "execution_count": 142,
   "metadata": {},
   "outputs": [
    {
     "name": "stdout",
     "output_type": "stream",
     "text": [
      "{'Ajay': 302, 'Vijay': 506, 'Dheeraj': 786, 'Niraj': 931, 'Kalyan': 791}\n"
     ]
    }
   ],
   "source": [
    "## Create a Dictionaries with the name my_dict and data:\n",
    "my_dict = {\"Ajay\" : 302,\"Vijay\":506,\"Dheeraj\":786,\"Niraj\":931,\"Kalyan\":791}\n",
    "print(my_dict)"
   ]
  },
  {
   "cell_type": "code",
   "execution_count": 143,
   "metadata": {},
   "outputs": [
    {
     "data": {
      "text/plain": [
       "931"
      ]
     },
     "execution_count": 143,
     "metadata": {},
     "output_type": "execute_result"
    }
   ],
   "source": [
    "#a value of Niraj\n",
    "my_dict[\"Niraj\"]"
   ]
  },
  {
   "cell_type": "code",
   "execution_count": 149,
   "metadata": {},
   "outputs": [
    {
     "name": "stdout",
     "output_type": "stream",
     "text": [
      "{'Ajay': 302, 'Vijay': 506, 'Dheeraj': 786, 'Niraj': 931, 'Kalyan': 791, 'Mukesh': 625}\n"
     ]
    }
   ],
   "source": [
    "#b Add Mukesh:625\n",
    "my_dict[\"Mukesh\"] = 625\n",
    "print(my_dict)"
   ]
  },
  {
   "cell_type": "code",
   "execution_count": 150,
   "metadata": {},
   "outputs": [
    {
     "name": "stdout",
     "output_type": "stream",
     "text": [
      "{'Ajay': 302, 'Dheeraj': 786, 'Niraj': 931, 'Kalyan': 791, 'Mukesh': 625}\n"
     ]
    }
   ],
   "source": [
    "#c del vijay from my_dict\n",
    "del my_dict[\"Vijay\"]\n",
    "print(my_dict)"
   ]
  },
  {
   "cell_type": "code",
   "execution_count": 151,
   "metadata": {},
   "outputs": [
    {
     "name": "stdout",
     "output_type": "stream",
     "text": [
      "{'Ajay': 302, 'Dheeraj': 500, 'Niraj': 931, 'Kalyan': 791, 'Mukesh': 625}\n"
     ]
    }
   ],
   "source": [
    "#d replace Dheeraj to 500\n",
    "my_dict[\"Dheeraj\"] = 500\n",
    "print(my_dict)"
   ]
  },
  {
   "cell_type": "code",
   "execution_count": null,
   "metadata": {},
   "outputs": [],
   "source": []
  }
 ],
 "metadata": {
  "kernelspec": {
   "display_name": "Python 3",
   "language": "python",
   "name": "python3"
  },
  "language_info": {
   "codemirror_mode": {
    "name": "ipython",
    "version": 3
   },
   "file_extension": ".py",
   "mimetype": "text/x-python",
   "name": "python",
   "nbconvert_exporter": "python",
   "pygments_lexer": "ipython3",
   "version": "3.7.0"
  }
 },
 "nbformat": 4,
 "nbformat_minor": 2
}
